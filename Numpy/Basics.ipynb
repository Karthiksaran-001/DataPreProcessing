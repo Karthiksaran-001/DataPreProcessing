{
 "cells": [
  {
   "cell_type": "markdown",
   "id": "4fe01b04",
   "metadata": {},
   "source": [
    "# Basic Numpy\n",
    "- Numpy is a python Numerical Python Package\n",
    "- It is Used in ML,CV,NLP,Tensorflow\n",
    "- Python Array Packages"
   ]
  },
  {
   "cell_type": "code",
   "execution_count": 2,
   "id": "a2e477ea",
   "metadata": {},
   "outputs": [],
   "source": [
    "import numpy as np"
   ]
  },
  {
   "cell_type": "markdown",
   "id": "be8092d6",
   "metadata": {},
   "source": [
    "### Create an Array Using Numpy"
   ]
  },
  {
   "cell_type": "code",
   "execution_count": 3,
   "id": "17a47ce5",
   "metadata": {},
   "outputs": [
    {
     "data": {
      "text/plain": [
       "array([1, 2, 3, 4, 5])"
      ]
     },
     "execution_count": 3,
     "metadata": {},
     "output_type": "execute_result"
    }
   ],
   "source": [
    "arr = np.array([1,2,3,4,5])\n",
    "arr"
   ]
  },
  {
   "cell_type": "code",
   "execution_count": 4,
   "id": "7831f89a",
   "metadata": {},
   "outputs": [
    {
     "data": {
      "text/plain": [
       "numpy.ndarray"
      ]
     },
     "execution_count": 4,
     "metadata": {},
     "output_type": "execute_result"
    }
   ],
   "source": [
    "type(arr)\n",
    "##nd means ndimensional"
   ]
  },
  {
   "cell_type": "code",
   "execution_count": 28,
   "id": "b46bb31d",
   "metadata": {},
   "outputs": [
    {
     "data": {
      "text/plain": [
       "array(['1', '2', '3', '4', 'Karthik', '55.5', '(4+8j)'], dtype='<U64')"
      ]
     },
     "execution_count": 28,
     "metadata": {},
     "output_type": "execute_result"
    }
   ],
   "source": [
    "## we can create Hetrogenous Datatype\n",
    "arr = np.array([1,2,3,4,\"Karthik\",55.5,4+8j])\n",
    "arr"
   ]
  },
  {
   "cell_type": "code",
   "execution_count": 29,
   "id": "10ad4a07",
   "metadata": {},
   "outputs": [
    {
     "data": {
      "text/plain": [
       "1"
      ]
     },
     "execution_count": 29,
     "metadata": {},
     "output_type": "execute_result"
    }
   ],
   "source": [
    "arr.ndim\n",
    "## It is One Dimensional Array"
   ]
  },
  {
   "cell_type": "code",
   "execution_count": 7,
   "id": "15e6e180",
   "metadata": {},
   "outputs": [
    {
     "name": "stdout",
     "output_type": "stream",
     "text": [
      "Data type is : <class 'numpy.str_'> and the Value is :1\n",
      "Data type is : <class 'numpy.str_'> and the Value is :2\n",
      "Data type is : <class 'numpy.str_'> and the Value is :3\n",
      "Data type is : <class 'numpy.str_'> and the Value is :4\n",
      "Data type is : <class 'numpy.str_'> and the Value is :Karthik\n",
      "Data type is : <class 'numpy.str_'> and the Value is :55.5\n",
      "Data type is : <class 'numpy.str_'> and the Value is :(4+8j)\n"
     ]
    }
   ],
   "source": [
    "for i in arr:\n",
    "    print(f'Data type is : {type(i)} and the Value is :{i}')\n",
    "## Now we see when we use string all element are changes into str"
   ]
  },
  {
   "cell_type": "code",
   "execution_count": 8,
   "id": "3ad4e471",
   "metadata": {},
   "outputs": [
    {
     "name": "stdout",
     "output_type": "stream",
     "text": [
      "Orginal Array is [ 1.  2. 23.  4.  5.  4.]\n",
      "Data type is : <class 'numpy.float64'> and the Value is :1.0\n",
      "Data type is : <class 'numpy.float64'> and the Value is :2.0\n",
      "Data type is : <class 'numpy.float64'> and the Value is :23.0\n",
      "Data type is : <class 'numpy.float64'> and the Value is :4.0\n",
      "Data type is : <class 'numpy.float64'> and the Value is :5.0\n",
      "Data type is : <class 'numpy.float64'> and the Value is :4.0\n"
     ]
    }
   ],
   "source": [
    "## Same like Float \n",
    "arr = np.array([1,2,23,4,5.0,4])\n",
    "print(f\"Orginal Array is {arr}\")\n",
    "for i in arr:\n",
    "    print(f'Data type is : {type(i)} and the Value is :{i}')\n"
   ]
  },
  {
   "cell_type": "markdown",
   "id": "3d82c681",
   "metadata": {},
   "source": [
    "## Create 2dimensional(2d) & 3d Array"
   ]
  },
  {
   "cell_type": "code",
   "execution_count": 12,
   "id": "d8164096",
   "metadata": {},
   "outputs": [
    {
     "name": "stdout",
     "output_type": "stream",
     "text": [
      "[['1' '2' '3']\n",
      " ['Python' 'Django' 'Javascript']]\n"
     ]
    }
   ],
   "source": [
    "arr = np.array([[1,2,3],[\"Python\",\"Django\",\"Javascript\"]])\n",
    "print(arr)"
   ]
  },
  {
   "cell_type": "code",
   "execution_count": 13,
   "id": "a4911e01",
   "metadata": {},
   "outputs": [
    {
     "data": {
      "text/plain": [
       "2"
      ]
     },
     "execution_count": 13,
     "metadata": {},
     "output_type": "execute_result"
    }
   ],
   "source": [
    "arr.ndim ## 2d array\n",
    "## Now we see it has 2rows and 3 columns so it is 2d Array"
   ]
  },
  {
   "cell_type": "code",
   "execution_count": 14,
   "id": "efd6d02d",
   "metadata": {},
   "outputs": [
    {
     "name": "stdout",
     "output_type": "stream",
     "text": [
      "[[['1' '2' '3']\n",
      "  ['Python' 'Django' 'Javascript']\n",
      "  ['Karthik' 'Saran' 'S']]]\n"
     ]
    },
    {
     "data": {
      "text/plain": [
       "3"
      ]
     },
     "execution_count": 14,
     "metadata": {},
     "output_type": "execute_result"
    }
   ],
   "source": [
    "arr = np.array([[[1,2,3],[\"Python\",\"Django\",\"Javascript\"],[\"Karthik\",\"Saran\",\"S\"]]])\n",
    "print(arr)\n",
    "arr.ndim ##3d array\n",
    "## Now we see It is 3d(dimensional) Array       "
   ]
  },
  {
   "cell_type": "markdown",
   "id": "46675fbe",
   "metadata": {},
   "source": [
    "## Now we create ndimension using another method using ndim"
   ]
  },
  {
   "cell_type": "code",
   "execution_count": 15,
   "id": "75ce6abf",
   "metadata": {},
   "outputs": [
    {
     "name": "stdout",
     "output_type": "stream",
     "text": [
      "[[[1 2 4 5]]]\n"
     ]
    },
    {
     "data": {
      "text/plain": [
       "3"
      ]
     },
     "execution_count": 15,
     "metadata": {},
     "output_type": "execute_result"
    }
   ],
   "source": [
    "arr = np.array([1,2,4,5] , ndmin=3)\n",
    "print(arr)\n",
    "arr.ndim\n",
    "## Now we create a 3dimension"
   ]
  },
  {
   "cell_type": "code",
   "execution_count": 32,
   "id": "a9099b0c",
   "metadata": {},
   "outputs": [
    {
     "data": {
      "text/plain": [
       "array([1.+0.j, 2.+0.j, 4.+0.j, 5.+0.j])"
      ]
     },
     "execution_count": 32,
     "metadata": {},
     "output_type": "execute_result"
    }
   ],
   "source": [
    "np.array([1,2,4,5] , dtype=complex) ## Now we convert into Complex using dtype"
   ]
  },
  {
   "cell_type": "code",
   "execution_count": 16,
   "id": "ec725ec4",
   "metadata": {},
   "outputs": [
    {
     "name": "stdout",
     "output_type": "stream",
     "text": [
      "[[ 10  20]\n",
      " [100 200]]\n"
     ]
    },
    {
     "data": {
      "text/plain": [
       "2"
      ]
     },
     "execution_count": 16,
     "metadata": {},
     "output_type": "execute_result"
    }
   ],
   "source": [
    "arr = np.array([(10,20),(100,200)])\n",
    "print(arr)\n",
    "arr.ndim\n",
    "## We create using Tuple "
   ]
  },
  {
   "cell_type": "code",
   "execution_count": 42,
   "id": "7aaa2e6d",
   "metadata": {},
   "outputs": [
    {
     "name": "stdout",
     "output_type": "stream",
     "text": [
      "[[ 10  20]\n",
      " [100 200]]\n"
     ]
    },
    {
     "data": {
      "text/plain": [
       "(2, 2)"
      ]
     },
     "execution_count": 42,
     "metadata": {},
     "output_type": "execute_result"
    }
   ],
   "source": [
    "arr = np.array([[10,20],[100,200]])\n",
    "print(arr)\n",
    "arr.shape"
   ]
  },
  {
   "cell_type": "code",
   "execution_count": 45,
   "id": "eaa61c04",
   "metadata": {},
   "outputs": [
    {
     "data": {
      "text/plain": [
       "(array([10, 20]), 20)"
      ]
     },
     "execution_count": 45,
     "metadata": {},
     "output_type": "execute_result"
    }
   ],
   "source": [
    "arr[0],arr[0][1]"
   ]
  },
  {
   "cell_type": "markdown",
   "id": "13342a00",
   "metadata": {},
   "source": [
    "## Change Int16 & Int64\n",
    "- It is Not Widely Used in Datascience"
   ]
  },
  {
   "cell_type": "code",
   "execution_count": 67,
   "id": "504a7f52",
   "metadata": {},
   "outputs": [
    {
     "name": "stdout",
     "output_type": "stream",
     "text": [
      "[(1, 2) (3, 4)]\n"
     ]
    },
    {
     "data": {
      "text/plain": [
       "(2,)"
      ]
     },
     "execution_count": 67,
     "metadata": {},
     "output_type": "execute_result"
    }
   ],
   "source": [
    "arr = np.array([(1,2),(3,4)] , dtype=[(\"a\",\"<i2\"),(\"b\",\"<i8\")] )\n",
    "print(arr)\n",
    "arr.shape"
   ]
  },
  {
   "cell_type": "markdown",
   "id": "e3ad9a78",
   "metadata": {},
   "source": [
    "## a i= 1, b = 2 likewise a =3 and b=4\n",
    "- i2 =16bit\n",
    "- i4 =32bit\n",
    "- i8 =64bit"
   ]
  },
  {
   "cell_type": "code",
   "execution_count": 68,
   "id": "6f1d811c",
   "metadata": {},
   "outputs": [
    {
     "name": "stdout",
     "output_type": "stream",
     "text": [
      "1\n"
     ]
    },
    {
     "data": {
      "text/plain": [
       "numpy.int16"
      ]
     },
     "execution_count": 68,
     "metadata": {},
     "output_type": "execute_result"
    }
   ],
   "source": [
    "## Now we see  Int16\n",
    "print(arr[0][0])\n",
    "type(arr[0][0])"
   ]
  },
  {
   "cell_type": "code",
   "execution_count": 69,
   "id": "ba166c84",
   "metadata": {},
   "outputs": [
    {
     "name": "stdout",
     "output_type": "stream",
     "text": [
      "2\n"
     ]
    },
    {
     "data": {
      "text/plain": [
       "numpy.int64"
      ]
     },
     "execution_count": 69,
     "metadata": {},
     "output_type": "execute_result"
    }
   ],
   "source": [
    "## Now we see  Int64\n",
    "print(arr[0][1])\n",
    "type(arr[0][1])"
   ]
  },
  {
   "cell_type": "markdown",
   "id": "a87da8a9",
   "metadata": {},
   "source": [
    "## Access Element in Array "
   ]
  },
  {
   "cell_type": "code",
   "execution_count": 7,
   "id": "d7fb0274",
   "metadata": {},
   "outputs": [
    {
     "data": {
      "text/plain": [
       "array([[  10,   20],\n",
       "       [ 100,  200],\n",
       "       [1000, 3000]])"
      ]
     },
     "execution_count": 7,
     "metadata": {},
     "output_type": "execute_result"
    }
   ],
   "source": [
    "arr = np.array([[10,20],[100,200],[1000,3000]])\n",
    "arr"
   ]
  },
  {
   "cell_type": "code",
   "execution_count": 78,
   "id": "a6e803cd",
   "metadata": {},
   "outputs": [
    {
     "data": {
      "text/plain": [
       "(array([10, 20]), array([100, 200]), 20, 3000)"
      ]
     },
     "execution_count": 78,
     "metadata": {},
     "output_type": "execute_result"
    }
   ],
   "source": [
    "arr[0] , arr[1] , arr[0][1] , arr[2][1]"
   ]
  },
  {
   "cell_type": "code",
   "execution_count": 81,
   "id": "373c2c12",
   "metadata": {},
   "outputs": [
    {
     "name": "stdout",
     "output_type": "stream",
     "text": [
      "200\n"
     ]
    },
    {
     "data": {
      "text/plain": [
       "numpy.int32"
      ]
     },
     "execution_count": 81,
     "metadata": {},
     "output_type": "execute_result"
    }
   ],
   "source": [
    "print(arr[1][1])\n",
    "type(arr[1][1]) ## By default int has 32"
   ]
  },
  {
   "cell_type": "markdown",
   "id": "a0ef8491",
   "metadata": {},
   "source": [
    "## Matrix\n",
    "- Matrix & Array are Almost Similar"
   ]
  },
  {
   "cell_type": "code",
   "execution_count": 11,
   "id": "0f333e54",
   "metadata": {},
   "outputs": [
    {
     "data": {
      "text/plain": [
       "matrix([[  10,   20],\n",
       "        [ 100,  200],\n",
       "        [1000, 3000]])"
      ]
     },
     "execution_count": 11,
     "metadata": {},
     "output_type": "execute_result"
    }
   ],
   "source": [
    "matrix = np.mat(arr)\n",
    "matrix\n",
    "## Now we see it Changes Array  into Matrix "
   ]
  },
  {
   "cell_type": "code",
   "execution_count": 11,
   "id": "9d6e26f7",
   "metadata": {},
   "outputs": [
    {
     "data": {
      "text/plain": [
       "numpy.matrix"
      ]
     },
     "execution_count": 11,
     "metadata": {},
     "output_type": "execute_result"
    }
   ],
   "source": [
    "type(matrix)"
   ]
  },
  {
   "cell_type": "code",
   "execution_count": 20,
   "id": "f0fa05b6",
   "metadata": {},
   "outputs": [
    {
     "data": {
      "text/plain": [
       "matrix([[100, 200]])"
      ]
     },
     "execution_count": 20,
     "metadata": {},
     "output_type": "execute_result"
    }
   ],
   "source": [
    "matrix[1]"
   ]
  },
  {
   "cell_type": "markdown",
   "id": "b35a05ad",
   "metadata": {},
   "source": [
    "## convert List Into Array"
   ]
  },
  {
   "cell_type": "code",
   "execution_count": 23,
   "id": "6c83a709",
   "metadata": {},
   "outputs": [
    {
     "data": {
      "text/plain": [
       "([1, 2, 3, 4, 5], list)"
      ]
     },
     "execution_count": 23,
     "metadata": {},
     "output_type": "execute_result"
    }
   ],
   "source": [
    "## Now we create a list & Convert into Array\n",
    "lst =[i for i in range(1,6)]\n",
    "lst , type(lst)"
   ]
  },
  {
   "cell_type": "code",
   "execution_count": 28,
   "id": "83ee2b06",
   "metadata": {},
   "outputs": [
    {
     "data": {
      "text/plain": [
       "array([[1, 2, 3, 4, 5]])"
      ]
     },
     "execution_count": 28,
     "metadata": {},
     "output_type": "execute_result"
    }
   ],
   "source": [
    "## Convert list into Array\n",
    "np.array(lst,ndmin=2)"
   ]
  },
  {
   "cell_type": "code",
   "execution_count": 32,
   "id": "dbb16def",
   "metadata": {},
   "outputs": [
    {
     "name": "stdout",
     "output_type": "stream",
     "text": [
      "[1 2 3 4 5]\n"
     ]
    },
    {
     "data": {
      "text/plain": [
       "matrix([[  10,   20],\n",
       "        [ 100,  200],\n",
       "        [1000, 3000]])"
      ]
     },
     "execution_count": 32,
     "metadata": {},
     "output_type": "execute_result"
    }
   ],
   "source": [
    "## Another Wayy  (AnyArray)\n",
    "print(np.asanyarray(lst))\n",
    "## It will not convert into array now we see with matrix \n",
    "np.asanyarray(matrix)"
   ]
  },
  {
   "cell_type": "code",
   "execution_count": 33,
   "id": "d931bcdf",
   "metadata": {},
   "outputs": [
    {
     "name": "stdout",
     "output_type": "stream",
     "text": [
      "[1 2 3 4 5]\n"
     ]
    },
    {
     "data": {
      "text/plain": [
       "array([[  10,   20],\n",
       "       [ 100,  200],\n",
       "       [1000, 3000]])"
      ]
     },
     "execution_count": 33,
     "metadata": {},
     "output_type": "execute_result"
    }
   ],
   "source": [
    "## another Method (asarray)\n",
    "print(np.asarray(lst))\n",
    "## It will  convert into array now we see with matrix \n",
    "np.asarray(matrix)"
   ]
  },
  {
   "cell_type": "markdown",
   "id": "9cbe270f",
   "metadata": {},
   "source": [
    "## Subclass"
   ]
  },
  {
   "cell_type": "code",
   "execution_count": 44,
   "id": "30395945",
   "metadata": {},
   "outputs": [
    {
     "name": "stdout",
     "output_type": "stream",
     "text": [
      "Matrix is a Subclass of Array : True\n",
      "Array is a Subclass of Matrix : False\n"
     ]
    }
   ],
   "source": [
    "## Now wee see Matrix is a subclass of an array \n",
    "## Know we see with subclass function\n",
    "print(f\"Matrix is a Subclass of Array : {issubclass(np.matrix , np.ndarray)}\")\n",
    "print(f\"Array is a Subclass of Matrix : {issubclass(np.ndarray , np.matrix)}\")"
   ]
  },
  {
   "cell_type": "markdown",
   "id": "48257f44",
   "metadata": {},
   "source": [
    "## Deep  Copy Vs Shallow Copy"
   ]
  },
  {
   "cell_type": "code",
   "execution_count": 87,
   "id": "fade474c",
   "metadata": {},
   "outputs": [
    {
     "data": {
      "text/plain": [
       "array([[  10,   20],\n",
       "       [ 100,  200],\n",
       "       [1000, 3000]])"
      ]
     },
     "execution_count": 87,
     "metadata": {},
     "output_type": "execute_result"
    }
   ],
   "source": [
    "arr"
   ]
  },
  {
   "cell_type": "code",
   "execution_count": 46,
   "id": "1c5d0320",
   "metadata": {},
   "outputs": [
    {
     "data": {
      "text/plain": [
       "array([[  10,   20],\n",
       "       [ 100,  200],\n",
       "       [1000, 3000]])"
      ]
     },
     "execution_count": 46,
     "metadata": {},
     "output_type": "execute_result"
    }
   ],
   "source": [
    "## Shallow Copy\n",
    "a = arr\n",
    "a"
   ]
  },
  {
   "cell_type": "code",
   "execution_count": 48,
   "id": "2743d462",
   "metadata": {},
   "outputs": [
    {
     "data": {
      "text/plain": [
       "array([[  10,   20],\n",
       "       [ 100,  200],\n",
       "       [1000, 3000]])"
      ]
     },
     "execution_count": 48,
     "metadata": {},
     "output_type": "execute_result"
    }
   ],
   "source": [
    "## Deep Copy\n",
    "b = np.copy(arr)\n",
    "b "
   ]
  },
  {
   "cell_type": "code",
   "execution_count": 88,
   "id": "7f374f27",
   "metadata": {},
   "outputs": [
    {
     "data": {
      "text/plain": [
       "array([[  50,   20],\n",
       "       [ 100,  200],\n",
       "       [1000, 3000]])"
      ]
     },
     "execution_count": 88,
     "metadata": {},
     "output_type": "execute_result"
    }
   ],
   "source": [
    "## To update a value in  arr \n",
    "arr[0][0] = 50\n",
    "arr"
   ]
  },
  {
   "cell_type": "code",
   "execution_count": 50,
   "id": "0cfc9c1b",
   "metadata": {},
   "outputs": [
    {
     "data": {
      "text/plain": [
       "array([[  50,   20],\n",
       "       [ 100,  200],\n",
       "       [1000, 3000]])"
      ]
     },
     "execution_count": 50,
     "metadata": {},
     "output_type": "execute_result"
    }
   ],
   "source": [
    "a \n",
    "## Now we see it Update the New Value , it refects the new changes becozz it gives shares same  location of arr"
   ]
  },
  {
   "cell_type": "code",
   "execution_count": 51,
   "id": "c50adf9a",
   "metadata": {},
   "outputs": [
    {
     "data": {
      "text/plain": [
       "array([[  10,   20],\n",
       "       [ 100,  200],\n",
       "       [1000, 3000]])"
      ]
     },
     "execution_count": 51,
     "metadata": {},
     "output_type": "execute_result"
    }
   ],
   "source": [
    "b \n",
    "## Now we see It doesn't update the New value , it cant reflect the new changes becozz it gives doesn't shares same  location of arr"
   ]
  },
  {
   "cell_type": "markdown",
   "id": "519ac663",
   "metadata": {},
   "source": [
    "## Array Are Mutuable and Supports Slicing"
   ]
  },
  {
   "cell_type": "code",
   "execution_count": 89,
   "id": "0372c7ce",
   "metadata": {},
   "outputs": [
    {
     "data": {
      "text/plain": [
       "array([[  50,   20],\n",
       "       [ 100,  200],\n",
       "       [1000, 3000]])"
      ]
     },
     "execution_count": 89,
     "metadata": {},
     "output_type": "execute_result"
    }
   ],
   "source": [
    "arr"
   ]
  },
  {
   "cell_type": "code",
   "execution_count": 90,
   "id": "a0774076",
   "metadata": {},
   "outputs": [
    {
     "data": {
      "text/plain": [
       "array([[  10,   20],\n",
       "       [ 100,  200],\n",
       "       [1000, 3000]])"
      ]
     },
     "execution_count": 90,
     "metadata": {},
     "output_type": "execute_result"
    }
   ],
   "source": [
    "arr[0][0]=10\n",
    "arr ## Mutuable"
   ]
  },
  {
   "cell_type": "code",
   "execution_count": 94,
   "id": "16da979f",
   "metadata": {},
   "outputs": [
    {
     "data": {
      "text/plain": [
       "array([1000, 3000])"
      ]
     },
     "execution_count": 94,
     "metadata": {},
     "output_type": "execute_result"
    }
   ],
   "source": [
    "## Slicing \n",
    "arr[-1] "
   ]
  },
  {
   "cell_type": "code",
   "execution_count": 95,
   "id": "d22f5cf4",
   "metadata": {},
   "outputs": [
    {
     "data": {
      "text/plain": [
       "array([100, 200])"
      ]
     },
     "execution_count": 95,
     "metadata": {},
     "output_type": "execute_result"
    }
   ],
   "source": [
    "arr[1,:]## First One is for Which Row"
   ]
  },
  {
   "cell_type": "code",
   "execution_count": 103,
   "id": "2e4fa906",
   "metadata": {},
   "outputs": [
    {
     "name": "stdout",
     "output_type": "stream",
     "text": [
      "[[1000 3000]]\n"
     ]
    },
    {
     "data": {
      "text/plain": [
       "1000"
      ]
     },
     "execution_count": 103,
     "metadata": {},
     "output_type": "execute_result"
    }
   ],
   "source": [
    "print(arr[2:])\n",
    "arr[2:][0][0]"
   ]
  },
  {
   "cell_type": "code",
   "execution_count": 105,
   "id": "e5fe1df5",
   "metadata": {},
   "outputs": [
    {
     "name": "stdout",
     "output_type": "stream",
     "text": [
      "[10 20]\n",
      "[100 200]\n",
      "[1000 3000]\n"
     ]
    }
   ],
   "source": [
    "for i in arr:\n",
    "    print(i)"
   ]
  },
  {
   "cell_type": "code",
   "execution_count": 107,
   "id": "06335034",
   "metadata": {},
   "outputs": [
    {
     "data": {
      "text/plain": [
       "array([40, 60])"
      ]
     },
     "execution_count": 107,
     "metadata": {},
     "output_type": "execute_result"
    }
   ],
   "source": [
    "np.array([10,20]) + np.array([30,40])"
   ]
  },
  {
   "cell_type": "code",
   "execution_count": 112,
   "id": "c0ed9c7a",
   "metadata": {},
   "outputs": [
    {
     "data": {
      "text/plain": [
       "[10, 20, 30, 40]"
      ]
     },
     "execution_count": 112,
     "metadata": {},
     "output_type": "execute_result"
    }
   ],
   "source": [
    "list([10,20]) + list([30,40])"
   ]
  },
  {
   "cell_type": "code",
   "execution_count": 113,
   "id": "9aa9ae28",
   "metadata": {},
   "outputs": [
    {
     "data": {
      "text/plain": [
       "array([[ True, False, False],\n",
       "       [False,  True, False]])"
      ]
     },
     "execution_count": 113,
     "metadata": {},
     "output_type": "execute_result"
    }
   ],
   "source": [
    "np.fromfunction(lambda i , j:i==j,(2,3))\n",
    "## Becozz it create  2  row and 3 column ,here 1 = 0row and 0 column so true , 2=0row and 1column so false ,3 row 2 and column so false\n",
    "## 4=row 0 column false , 5 =1row 1 column so true   ,6 =1row and 2column so false \n",
    "## result is(t,f,f,f,t,f)"
   ]
  },
  {
   "cell_type": "code",
   "execution_count": 117,
   "id": "da1138a3",
   "metadata": {},
   "outputs": [
    {
     "data": {
      "text/plain": [
       "array([[0., 1., 2.],\n",
       "       [1., 2., 3.]])"
      ]
     },
     "execution_count": 117,
     "metadata": {},
     "output_type": "execute_result"
    }
   ],
   "source": [
    "np.fromfunction(lambda i,j:i+j,(2,3))"
   ]
  },
  {
   "cell_type": "code",
   "execution_count": 116,
   "id": "30ed8ec3",
   "metadata": {
    "scrolled": true
   },
   "outputs": [
    {
     "name": "stderr",
     "output_type": "stream",
     "text": [
      "C:\\ProgramData\\Anaconda3\\envs\\pandas\\lib\\site-packages\\ipykernel_launcher.py:1: RuntimeWarning: divide by zero encountered in true_divide\n",
      "  \"\"\"Entry point for launching an IPython kernel.\n",
      "C:\\ProgramData\\Anaconda3\\envs\\pandas\\lib\\site-packages\\ipykernel_launcher.py:1: RuntimeWarning: invalid value encountered in true_divide\n",
      "  \"\"\"Entry point for launching an IPython kernel.\n"
     ]
    },
    {
     "data": {
      "text/plain": [
       "array([[nan, 0. , 0. ],\n",
       "       [inf, 1. , 0.5]])"
      ]
     },
     "execution_count": 116,
     "metadata": {},
     "output_type": "execute_result"
    }
   ],
   "source": [
    "np.fromfunction(lambda i,j:i/j,(2,3))\n",
    "## In Numpy We dont get zero division error instead it gives inf"
   ]
  },
  {
   "cell_type": "markdown",
   "id": "91f0c9c4",
   "metadata": {},
   "source": [
    "## Generator"
   ]
  },
  {
   "cell_type": "code",
   "execution_count": 4,
   "id": "bae57fd3",
   "metadata": {
    "scrolled": true
   },
   "outputs": [
    {
     "name": "stdout",
     "output_type": "stream",
     "text": [
      "0\n",
      "1\n",
      "1\n",
      "2\n",
      "3\n"
     ]
    }
   ],
   "source": [
    "def fib(n):\n",
    "    a,b=0,1\n",
    "    if(n<0):\n",
    "        yield(\"Sorry Not Possible\")\n",
    "    elif(n==1):\n",
    "        print(\"The Fibonacii series are\")\n",
    "        yield(a)\n",
    "    else:\n",
    "        for i in range(n):\n",
    "            yield(a)\n",
    "            a,b=b,a+b\n",
    "            if(a>n):\n",
    "                break\n",
    "for i in fib(5):\n",
    "    print(i)\n",
    "        "
   ]
  },
  {
   "cell_type": "markdown",
   "id": "a5be84f2",
   "metadata": {},
   "source": [
    "## creating Array With Various Datatypes using from function"
   ]
  },
  {
   "cell_type": "code",
   "execution_count": 154,
   "id": "39cb873f",
   "metadata": {},
   "outputs": [
    {
     "data": {
      "text/plain": [
       "array([0, 1, 1, 2, 3])"
      ]
     },
     "execution_count": 154,
     "metadata": {},
     "output_type": "execute_result"
    }
   ],
   "source": [
    "## Numpy Iterator\n",
    "np.fromiter(fib(5),dtype = int)"
   ]
  },
  {
   "cell_type": "code",
   "execution_count": 155,
   "id": "d594bd94",
   "metadata": {},
   "outputs": [
    {
     "data": {
      "text/plain": [
       "array([0, 1, 2, 3, 4])"
      ]
     },
     "execution_count": 155,
     "metadata": {},
     "output_type": "execute_result"
    }
   ],
   "source": [
    "def test(n):\n",
    "    for i in range(n):\n",
    "        yield i\n",
    "np.fromiter(test(5),dtype=int)"
   ]
  },
  {
   "cell_type": "code",
   "execution_count": 157,
   "id": "fb34479b",
   "metadata": {},
   "outputs": [
    {
     "data": {
      "text/plain": [
       "array([0, 1, 2, 3, 4])"
      ]
     },
     "execution_count": 157,
     "metadata": {},
     "output_type": "execute_result"
    }
   ],
   "source": [
    "## Create an array using Range\n",
    "np.fromiter(range(5),dtype =int)"
   ]
  },
  {
   "cell_type": "code",
   "execution_count": 5,
   "id": "4ab6c236",
   "metadata": {},
   "outputs": [
    {
     "data": {
      "text/plain": [
       "array([1, 2, 3, 4, 5])"
      ]
     },
     "execution_count": 5,
     "metadata": {},
     "output_type": "execute_result"
    }
   ],
   "source": [
    "## Create an Array Using String\n",
    "np.fromstring('1,2,3,4,5',sep=',',dtype=int)"
   ]
  },
  {
   "cell_type": "markdown",
   "id": "433019e8",
   "metadata": {},
   "source": [
    "## Check Dimension of the Array we use ndim"
   ]
  },
  {
   "cell_type": "code",
   "execution_count": 18,
   "id": "8b3afda7",
   "metadata": {},
   "outputs": [
    {
     "data": {
      "text/plain": [
       "[[1, 2, 3, 4], [10, 20, 30, 40], [100, 200, 300, 400]]"
      ]
     },
     "execution_count": 18,
     "metadata": {},
     "output_type": "execute_result"
    }
   ],
   "source": [
    "## Convert nested list into array \n",
    "lst1 = [[1,2,3,4],[10,20,30,40],[100,200,300,400]]\n",
    "lst1"
   ]
  },
  {
   "cell_type": "code",
   "execution_count": 19,
   "id": "604fc99b",
   "metadata": {},
   "outputs": [
    {
     "name": "stdout",
     "output_type": "stream",
     "text": [
      "[[  1   2   3   4]\n",
      " [ 10  20  30  40]\n",
      " [100 200 300 400]]\n"
     ]
    },
    {
     "data": {
      "text/plain": [
       "2"
      ]
     },
     "execution_count": 19,
     "metadata": {},
     "output_type": "execute_result"
    }
   ],
   "source": [
    "arr1 = np.array(lst1)\n",
    "print(arr1)\n",
    "arr1.ndim"
   ]
  },
  {
   "cell_type": "markdown",
   "id": "1b58591b",
   "metadata": {},
   "source": [
    "## check Size & shape"
   ]
  },
  {
   "cell_type": "code",
   "execution_count": 22,
   "id": "ea46007a",
   "metadata": {},
   "outputs": [
    {
     "data": {
      "text/plain": [
       "12"
      ]
     },
     "execution_count": 22,
     "metadata": {},
     "output_type": "execute_result"
    }
   ],
   "source": [
    "## tells how many elements are available in the array\n",
    "arr1.size"
   ]
  },
  {
   "cell_type": "code",
   "execution_count": 24,
   "id": "ac1a8e87",
   "metadata": {},
   "outputs": [
    {
     "data": {
      "text/plain": [
       "(3, 4)"
      ]
     },
     "execution_count": 24,
     "metadata": {},
     "output_type": "execute_result"
    }
   ],
   "source": [
    "## gives rows and columns  \n",
    "arr1.shape ## 3 rows 4 columns"
   ]
  },
  {
   "cell_type": "code",
   "execution_count": 47,
   "id": "c9d3a9d5",
   "metadata": {
    "scrolled": true
   },
   "outputs": [
    {
     "data": {
      "text/plain": [
       "dtype('int32')"
      ]
     },
     "execution_count": 47,
     "metadata": {},
     "output_type": "execute_result"
    }
   ],
   "source": [
    "## Check datatype using dtype\n",
    "arr1.dtype                        "
   ]
  },
  {
   "cell_type": "markdown",
   "id": "7591e1c6",
   "metadata": {},
   "source": [
    "## 3d Array"
   ]
  },
  {
   "cell_type": "code",
   "execution_count": 53,
   "id": "741f79a1",
   "metadata": {},
   "outputs": [
    {
     "name": "stdout",
     "output_type": "stream",
     "text": [
      "[[[  10   20   30   40]\n",
      "  [   1    2    3    4]]\n",
      "\n",
      " [[1000 2000 3000 4000]\n",
      "  [  40   30   20   10]]]\n",
      "16\n",
      "3\n"
     ]
    }
   ],
   "source": [
    "## 3dimensional array\n",
    "arr2 = np.array([[[10,20,30,40],[1,2,3,4]],[[1000,2000,3000,4000],[40,30,20,10]]])\n",
    "print(arr2)\n",
    "print(arr2.size)\n",
    "print(arr2.ndim)"
   ]
  },
  {
   "cell_type": "code",
   "execution_count": 43,
   "id": "60c86988",
   "metadata": {
    "scrolled": true
   },
   "outputs": [
    {
     "data": {
      "text/plain": [
       "(2, 2, 4)"
      ]
     },
     "execution_count": 43,
     "metadata": {},
     "output_type": "execute_result"
    }
   ],
   "source": [
    "arr2.shape\n",
    "# this means 2 times 2 X 4(2row,4column)"
   ]
  },
  {
   "cell_type": "code",
   "execution_count": 56,
   "id": "214bef23",
   "metadata": {
    "scrolled": true
   },
   "outputs": [
    {
     "name": "stdout",
     "output_type": "stream",
     "text": [
      "(1, 3, 3)\n"
     ]
    },
    {
     "data": {
      "text/plain": [
       "array([[[1, 2, 3],\n",
       "        [4, 5, 6],\n",
       "        [7, 8, 9]]])"
      ]
     },
     "execution_count": 56,
     "metadata": {},
     "output_type": "execute_result"
    }
   ],
   "source": [
    "print(np.array([[1,2,3],[4,5,6],[7,8,9]],ndmin=3).shape)\n",
    "np.array([[1,2,3],[4,5,6],[7,8,9]],ndmin=3)"
   ]
  },
  {
   "cell_type": "code",
   "execution_count": 63,
   "id": "410c25bb",
   "metadata": {
    "scrolled": true
   },
   "outputs": [
    {
     "name": "stdout",
     "output_type": "stream",
     "text": [
      "(3, 2, 2)\n",
      "3\n"
     ]
    },
    {
     "data": {
      "text/plain": [
       "array([[[   1,    2],\n",
       "        [   3,    4]],\n",
       "\n",
       "       [[   5,    6],\n",
       "        [   7,    8]],\n",
       "\n",
       "       [[ 100,  200],\n",
       "        [1000, 2000]]])"
      ]
     },
     "execution_count": 63,
     "metadata": {},
     "output_type": "execute_result"
    }
   ],
   "source": [
    "b = [   [[1,2],[3,4]] , [[5,6],[7,8]] , [[100,200],[1000,2000]]   ]\n",
    "print(np.array(b).shape)\n",
    "print(np.array(b).ndim)\n",
    "np.array(b)"
   ]
  },
  {
   "cell_type": "code",
   "execution_count": 65,
   "id": "ffc74ae6",
   "metadata": {},
   "outputs": [
    {
     "name": "stdout",
     "output_type": "stream",
     "text": [
      "[[[   1    2    3    4]]\n",
      "\n",
      " [[   5    6    7    8]]\n",
      "\n",
      " [[ 100  200 1000 2000]]]\n"
     ]
    },
    {
     "data": {
      "text/plain": [
       "(3, 1, 4)"
      ]
     },
     "execution_count": 65,
     "metadata": {},
     "output_type": "execute_result"
    }
   ],
   "source": [
    "c =  [   [[1,2,3,4]] , [[5,6,7,8]] , [[100,200,1000,2000]]   ]\n",
    "print(np.array(c))\n",
    "np.array(c).shape"
   ]
  },
  {
   "cell_type": "markdown",
   "id": "8c73ecb2",
   "metadata": {},
   "source": [
    "## 4d array\n",
    "- It is Impossible to view 4d array"
   ]
  },
  {
   "cell_type": "code",
   "execution_count": 58,
   "id": "632e307a",
   "metadata": {},
   "outputs": [
    {
     "name": "stdout",
     "output_type": "stream",
     "text": [
      "[[[[   10    20    30    40]\n",
      "   [  100   200   300   400]\n",
      "   [ 1000  2000  3000  4000]\n",
      "   [10000 20000 30000  4000]]]]\n",
      "16\n",
      "4\n"
     ]
    }
   ],
   "source": [
    "arr4 = np.array([[[[10,20,30,40],[100,200,300,400],[1000,2000,3000,4000],[10000,20000,30000,4000]]]])\n",
    "print(arr4)\n",
    "print(arr4.size)\n",
    "print(arr4.ndim)"
   ]
  },
  {
   "cell_type": "code",
   "execution_count": 59,
   "id": "42753e1e",
   "metadata": {},
   "outputs": [
    {
     "data": {
      "text/plain": [
       "(1, 1, 4, 4)"
      ]
     },
     "execution_count": 59,
     "metadata": {},
     "output_type": "execute_result"
    }
   ],
   "source": [
    "arr4.shape\n",
    "# this means"
   ]
  },
  {
   "cell_type": "markdown",
   "id": "0dee943d",
   "metadata": {},
   "source": [
    "## Arrange\n",
    "- Similar to range function but it supports arange"
   ]
  },
  {
   "cell_type": "code",
   "execution_count": 2,
   "id": "d5b1929e",
   "metadata": {},
   "outputs": [
    {
     "name": "stdout",
     "output_type": "stream",
     "text": [
      "[0, 1, 2, 3, 4, 5]\n"
     ]
    },
    {
     "ename": "TypeError",
     "evalue": "'float' object cannot be interpreted as an integer",
     "output_type": "error",
     "traceback": [
      "\u001b[1;31m---------------------------------------------------------------------------\u001b[0m",
      "\u001b[1;31mTypeError\u001b[0m                                 Traceback (most recent call last)",
      "\u001b[1;32m<ipython-input-2-ce07af8944e5>\u001b[0m in \u001b[0;36m<module>\u001b[1;34m\u001b[0m\n\u001b[0;32m      1\u001b[0m \u001b[0mprint\u001b[0m\u001b[1;33m(\u001b[0m\u001b[0mlist\u001b[0m\u001b[1;33m(\u001b[0m\u001b[0mrange\u001b[0m\u001b[1;33m(\u001b[0m\u001b[1;36m6\u001b[0m\u001b[1;33m)\u001b[0m\u001b[1;33m)\u001b[0m\u001b[1;33m)\u001b[0m\u001b[1;33m\u001b[0m\u001b[1;33m\u001b[0m\u001b[0m\n\u001b[1;32m----> 2\u001b[1;33m \u001b[0mlist\u001b[0m\u001b[1;33m(\u001b[0m\u001b[0mrange\u001b[0m\u001b[1;33m(\u001b[0m\u001b[1;36m6.5\u001b[0m\u001b[1;33m)\u001b[0m\u001b[1;33m)\u001b[0m\u001b[1;33m\u001b[0m\u001b[1;33m\u001b[0m\u001b[0m\n\u001b[0m",
      "\u001b[1;31mTypeError\u001b[0m: 'float' object cannot be interpreted as an integer"
     ]
    }
   ],
   "source": [
    "print(list(range(6)))\n",
    "list(range(6.5))"
   ]
  },
  {
   "cell_type": "code",
   "execution_count": 14,
   "id": "23dc0f95",
   "metadata": {},
   "outputs": [
    {
     "data": {
      "text/plain": [
       "array([6.5, 6.8, 7.1, 7.4, 7.7, 8. , 8.3, 8.6, 8.9])"
      ]
     },
     "execution_count": 14,
     "metadata": {},
     "output_type": "execute_result"
    }
   ],
   "source": [
    "## But in arange it support float\n",
    "np.arange(6.5,9,.3)"
   ]
  },
  {
   "cell_type": "markdown",
   "id": "7e5770d1",
   "metadata": {},
   "source": [
    "## Creating Dummy Array"
   ]
  },
  {
   "cell_type": "code",
   "execution_count": 2,
   "id": "a0002b1a",
   "metadata": {
    "scrolled": true
   },
   "outputs": [
    {
     "name": "stdout",
     "output_type": "stream",
     "text": [
      "Size : 100\n"
     ]
    },
    {
     "data": {
      "text/plain": [
       "array([1.        , 1.01010101, 1.02020202, 1.03030303, 1.04040404,\n",
       "       1.05050505, 1.06060606, 1.07070707, 1.08080808, 1.09090909,\n",
       "       1.1010101 , 1.11111111, 1.12121212, 1.13131313, 1.14141414,\n",
       "       1.15151515, 1.16161616, 1.17171717, 1.18181818, 1.19191919,\n",
       "       1.2020202 , 1.21212121, 1.22222222, 1.23232323, 1.24242424,\n",
       "       1.25252525, 1.26262626, 1.27272727, 1.28282828, 1.29292929,\n",
       "       1.3030303 , 1.31313131, 1.32323232, 1.33333333, 1.34343434,\n",
       "       1.35353535, 1.36363636, 1.37373737, 1.38383838, 1.39393939,\n",
       "       1.4040404 , 1.41414141, 1.42424242, 1.43434343, 1.44444444,\n",
       "       1.45454545, 1.46464646, 1.47474747, 1.48484848, 1.49494949,\n",
       "       1.50505051, 1.51515152, 1.52525253, 1.53535354, 1.54545455,\n",
       "       1.55555556, 1.56565657, 1.57575758, 1.58585859, 1.5959596 ,\n",
       "       1.60606061, 1.61616162, 1.62626263, 1.63636364, 1.64646465,\n",
       "       1.65656566, 1.66666667, 1.67676768, 1.68686869, 1.6969697 ,\n",
       "       1.70707071, 1.71717172, 1.72727273, 1.73737374, 1.74747475,\n",
       "       1.75757576, 1.76767677, 1.77777778, 1.78787879, 1.7979798 ,\n",
       "       1.80808081, 1.81818182, 1.82828283, 1.83838384, 1.84848485,\n",
       "       1.85858586, 1.86868687, 1.87878788, 1.88888889, 1.8989899 ,\n",
       "       1.90909091, 1.91919192, 1.92929293, 1.93939394, 1.94949495,\n",
       "       1.95959596, 1.96969697, 1.97979798, 1.98989899, 2.        ])"
      ]
     },
     "execution_count": 2,
     "metadata": {},
     "output_type": "execute_result"
    }
   ],
   "source": [
    "## linespace it gives a value between number bedefault it gives 50\n",
    "print(f'Size : {np.linspace(1,2,100).size}')\n",
    "np.linspace(1,2,100)"
   ]
  },
  {
   "cell_type": "code",
   "execution_count": 21,
   "id": "4bc2b6f9",
   "metadata": {},
   "outputs": [
    {
     "name": "stdout",
     "output_type": "stream",
     "text": [
      "[2.         2.66666667 3.33333333 4.        ]\n"
     ]
    },
    {
     "data": {
      "text/plain": [
       "array([2. , 2.5, 3. , 3.5])"
      ]
     },
     "execution_count": 21,
     "metadata": {},
     "output_type": "execute_result"
    }
   ],
   "source": [
    "print(np.linspace(2,4,4)) ## it include 4 \n",
    "np.linspace(2,4,4,endpoint=False) ## it doesn't include 4"
   ]
  },
  {
   "cell_type": "code",
   "execution_count": 4,
   "id": "75cb3330",
   "metadata": {},
   "outputs": [
    {
     "name": "stdout",
     "output_type": "stream",
     "text": [
      "[0. 0. 0. 0. 0.]\n"
     ]
    },
    {
     "data": {
      "text/plain": [
       "array([[0., 0., 0., 0., 0.],\n",
       "       [0., 0., 0., 0., 0.]])"
      ]
     },
     "execution_count": 4,
     "metadata": {},
     "output_type": "execute_result"
    }
   ],
   "source": [
    "## Creating Array with zeros \n",
    "print(np.zeros(5))\n",
    "np.zeros((2,5))  ## 2 row 5 column "
   ]
  },
  {
   "cell_type": "code",
   "execution_count": 5,
   "id": "50702495",
   "metadata": {},
   "outputs": [
    {
     "name": "stdout",
     "output_type": "stream",
     "text": [
      "[0. 0. 0. 0. 0.]\n"
     ]
    },
    {
     "data": {
      "text/plain": [
       "array([[0., 0., 0., 0., 0.],\n",
       "       [0., 0., 0., 0., 0.],\n",
       "       [0., 0., 0., 0., 0.]])"
      ]
     },
     "execution_count": 5,
     "metadata": {},
     "output_type": "execute_result"
    }
   ],
   "source": [
    "## Creating Array with ones\n",
    "print(np.zeros(5))\n",
    "np.zeros((3,5))  ## 2 row 5 column "
   ]
  },
  {
   "cell_type": "code",
   "execution_count": 10,
   "id": "b2bd81c0",
   "metadata": {},
   "outputs": [
    {
     "data": {
      "text/plain": [
       "array([[[6., 6., 6., 6., 6.],\n",
       "        [6., 6., 6., 6., 6.],\n",
       "        [6., 6., 6., 6., 6.]],\n",
       "\n",
       "       [[6., 6., 6., 6., 6.],\n",
       "        [6., 6., 6., 6., 6.],\n",
       "        [6., 6., 6., 6., 6.]]])"
      ]
     },
     "execution_count": 10,
     "metadata": {},
     "output_type": "execute_result"
    }
   ],
   "source": [
    "np.zeros((2,3,5))+6"
   ]
  },
  {
   "cell_type": "code",
   "execution_count": 16,
   "id": "07d2aae4",
   "metadata": {},
   "outputs": [
    {
     "data": {
      "text/plain": [
       "array([[1.18691046e-311, 2.47032823e-322, 0.00000000e+000,\n",
       "        0.00000000e+000],\n",
       "       [0.00000000e+000, 1.04082753e-047, 7.79294625e-091,\n",
       "        5.05574677e-038],\n",
       "       [2.81117593e-033, 1.29233700e+161, 3.99910963e+252,\n",
       "        1.23971686e+224]])"
      ]
     },
     "execution_count": 16,
     "metadata": {},
     "output_type": "execute_result"
    }
   ],
   "source": [
    "## empty array \n",
    "np.empty((3,4))  ## Gives some random data"
   ]
  },
  {
   "cell_type": "code",
   "execution_count": 18,
   "id": "4eb00b05",
   "metadata": {},
   "outputs": [
    {
     "data": {
      "text/plain": [
       "array([[1., 0., 0.],\n",
       "       [0., 1., 0.],\n",
       "       [0., 0., 1.]])"
      ]
     },
     "execution_count": 18,
     "metadata": {},
     "output_type": "execute_result"
    }
   ],
   "source": [
    "## Gives Diagnol Matrix\n",
    "np.eye(3)"
   ]
  },
  {
   "cell_type": "code",
   "execution_count": 9,
   "id": "501345bc",
   "metadata": {
    "scrolled": false
   },
   "outputs": [
    {
     "name": "stdout",
     "output_type": "stream",
     "text": [
      "[1.00000000e+01 2.15443469e+02 4.64158883e+03 1.00000000e+05]\n",
      "[[1.00000000e+01 1.00000000e+02]\n",
      " [1.20679264e+01 1.15139540e+02]\n",
      " [1.45634848e+01 1.32571137e+02]\n",
      " [1.75751062e+01 1.52641797e+02]\n",
      " [2.12095089e+01 1.75751062e+02]\n",
      " [2.55954792e+01 2.02358965e+02]\n",
      " [3.08884360e+01 2.32995181e+02]\n",
      " [3.72759372e+01 2.68269580e+02]\n",
      " [4.49843267e+01 3.08884360e+02]\n",
      " [5.42867544e+01 3.55648031e+02]\n",
      " [6.55128557e+01 4.09491506e+02]\n",
      " [7.90604321e+01 4.71486636e+02]\n",
      " [9.54095476e+01 5.42867544e+02]\n",
      " [1.15139540e+02 6.25055193e+02]\n",
      " [1.38949549e+02 7.19685673e+02]\n",
      " [1.67683294e+02 8.28642773e+02]\n",
      " [2.02358965e+02 9.54095476e+02]\n",
      " [2.44205309e+02 1.09854114e+03]\n",
      " [2.94705170e+02 1.26485522e+03]\n",
      " [3.55648031e+02 1.45634848e+03]\n",
      " [4.29193426e+02 1.67683294e+03]\n",
      " [5.17947468e+02 1.93069773e+03]\n",
      " [6.25055193e+02 2.22299648e+03]\n",
      " [7.54312006e+02 2.55954792e+03]\n",
      " [9.10298178e+02 2.94705170e+03]\n",
      " [1.09854114e+03 3.39322177e+03]\n",
      " [1.32571137e+03 3.90693994e+03]\n",
      " [1.59985872e+03 4.49843267e+03]\n",
      " [1.93069773e+03 5.17947468e+03]\n",
      " [2.32995181e+03 5.96362332e+03]\n",
      " [2.81176870e+03 6.86648845e+03]\n",
      " [3.39322177e+03 7.90604321e+03]\n",
      " [4.09491506e+03 9.10298178e+03]\n",
      " [4.94171336e+03 1.04811313e+04]\n",
      " [5.96362332e+03 1.20679264e+04]\n",
      " [7.19685673e+03 1.38949549e+04]\n",
      " [8.68511374e+03 1.59985872e+04]\n",
      " [1.04811313e+04 1.84206997e+04]\n",
      " [1.26485522e+04 2.12095089e+04]\n",
      " [1.52641797e+04 2.44205309e+04]\n",
      " [1.84206997e+04 2.81176870e+04]\n",
      " [2.22299648e+04 3.23745754e+04]\n",
      " [2.68269580e+04 3.72759372e+04]\n",
      " [3.23745754e+04 4.29193426e+04]\n",
      " [3.90693994e+04 4.94171336e+04]\n",
      " [4.71486636e+04 5.68986603e+04]\n",
      " [5.68986603e+04 6.55128557e+04]\n",
      " [6.86648845e+04 7.54312006e+04]\n",
      " [8.28642773e+04 8.68511374e+04]\n",
      " [1.00000000e+05 1.00000000e+05]]\n",
      "Dimension : 2\n",
      "(50, 2)\n"
     ]
    }
   ],
   "source": [
    "## Gives Log Data \n",
    "print(np.logspace(1,5,4)) ## So Between 1,5 it Gerates 4 logdata which base is 10\n",
    "print(np.logspace([1,2],5))\n",
    "print(f'Dimension : {np.logspace([1,3],5).ndim}')\n",
    "print(np.logspace([1,3],5).shape)"
   ]
  },
  {
   "cell_type": "code",
   "execution_count": 20,
   "id": "f5a0e739",
   "metadata": {},
   "outputs": [
    {
     "data": {
      "text/plain": [
       "array([   100.,   1000.,  10000., 100000.])"
      ]
     },
     "execution_count": 20,
     "metadata": {},
     "output_type": "execute_result"
    }
   ],
   "source": [
    "np.logspace(2,5,4)"
   ]
  },
  {
   "cell_type": "markdown",
   "id": "4047af13",
   "metadata": {},
   "source": [
    "## Reshpae an array"
   ]
  },
  {
   "cell_type": "code",
   "execution_count": 2,
   "id": "e5b3529d",
   "metadata": {},
   "outputs": [
    {
     "name": "stdout",
     "output_type": "stream",
     "text": [
      "1\n",
      "(20,)\n"
     ]
    },
    {
     "data": {
      "text/plain": [
       "array([ 1.        ,  1.47368421,  1.94736842,  2.42105263,  2.89473684,\n",
       "        3.36842105,  3.84210526,  4.31578947,  4.78947368,  5.26315789,\n",
       "        5.73684211,  6.21052632,  6.68421053,  7.15789474,  7.63157895,\n",
       "        8.10526316,  8.57894737,  9.05263158,  9.52631579, 10.        ])"
      ]
     },
     "execution_count": 2,
     "metadata": {},
     "output_type": "execute_result"
    }
   ],
   "source": [
    "d = np.linspace(1,10,20)\n",
    "print(d.ndim)\n",
    "print(d.shape)\n",
    "d # it has 1 row 20 columns "
   ]
  },
  {
   "cell_type": "code",
   "execution_count": 41,
   "id": "12772078",
   "metadata": {},
   "outputs": [
    {
     "name": "stdout",
     "output_type": "stream",
     "text": [
      "(20, 1)\n"
     ]
    },
    {
     "data": {
      "text/plain": [
       "array([[ 1.        ],\n",
       "       [ 1.47368421],\n",
       "       [ 1.94736842],\n",
       "       [ 2.42105263],\n",
       "       [ 2.89473684],\n",
       "       [ 3.36842105],\n",
       "       [ 3.84210526],\n",
       "       [ 4.31578947],\n",
       "       [ 4.78947368],\n",
       "       [ 5.26315789],\n",
       "       [ 5.73684211],\n",
       "       [ 6.21052632],\n",
       "       [ 6.68421053],\n",
       "       [ 7.15789474],\n",
       "       [ 7.63157895],\n",
       "       [ 8.10526316],\n",
       "       [ 8.57894737],\n",
       "       [ 9.05263158],\n",
       "       [ 9.52631579],\n",
       "       [10.        ]])"
      ]
     },
     "execution_count": 41,
     "metadata": {},
     "output_type": "execute_result"
    }
   ],
   "source": [
    "## reshape \n",
    "## now we change into 20 rows and 1 column\n",
    "print(d.reshape(20,1).shape)\n",
    "d.reshape(20,1)"
   ]
  },
  {
   "cell_type": "code",
   "execution_count": 48,
   "id": "1b7c169a",
   "metadata": {},
   "outputs": [
    {
     "data": {
      "text/plain": [
       "array([[[ 1.        ,  1.47368421,  1.94736842,  2.42105263,\n",
       "          2.89473684,  3.36842105,  3.84210526,  4.31578947,\n",
       "          4.78947368,  5.26315789],\n",
       "        [ 5.73684211,  6.21052632,  6.68421053,  7.15789474,\n",
       "          7.63157895,  8.10526316,  8.57894737,  9.05263158,\n",
       "          9.52631579, 10.        ]]])"
      ]
     },
     "execution_count": 48,
     "metadata": {},
     "output_type": "execute_result"
    }
   ],
   "source": [
    "d.reshape(1,2,10) # 1 times 2row 10columns"
   ]
  },
  {
   "cell_type": "code",
   "execution_count": 54,
   "id": "c471439f",
   "metadata": {},
   "outputs": [
    {
     "data": {
      "text/plain": [
       "(1, 3, 3)"
      ]
     },
     "execution_count": 54,
     "metadata": {},
     "output_type": "execute_result"
    }
   ],
   "source": [
    "np.array([[1,2,3],[4,5,6],[7,8,9]],ndmin=3).shape"
   ]
  },
  {
   "cell_type": "code",
   "execution_count": 75,
   "id": "b4cb4b16",
   "metadata": {},
   "outputs": [
    {
     "name": "stdout",
     "output_type": "stream",
     "text": [
      "[0.51785266 0.01807238 0.77346229]\n",
      "[0.46270746 0.91230893 1.82145203]\n",
      "[[[-0.67000351 -1.06136945 -0.61884324]\n",
      "  [-2.78098946  0.59192479  1.29408052]]\n",
      "\n",
      " [[-0.87468256 -0.25462006 -0.12182228]\n",
      "  [-0.4188338   0.33207195 -0.27154289]]]\n",
      "[[ 9  7 16 42]\n",
      " [34 27  7 40]\n",
      " [49 46 18 18]\n",
      " [ 8 30 31 38]]\n"
     ]
    }
   ],
   "source": [
    "## To Create a random data \n",
    "print(np.random.rand(3)) ## it gives data in uniform way 0 to 1\n",
    "print(np.random.randn(3)) ## it gives data by standard normal distribution -1 to 1\n",
    "print(np.random.randn(2,2,3))\n",
    "print(np.random.randint(5,50,(4,4))) ## It gives 4x4 array between 5 to 50"
   ]
  },
  {
   "cell_type": "code",
   "execution_count": 85,
   "id": "894ae141",
   "metadata": {},
   "outputs": [
    {
     "name": "stdout",
     "output_type": "stream",
     "text": [
      "1\n",
      "5.28\n",
      "9\n"
     ]
    },
    {
     "data": {
      "text/plain": [
       "array([[1, 4, 4, 9, 3],\n",
       "       [7, 8, 7, 5, 9],\n",
       "       [2, 9, 3, 3, 1],\n",
       "       [5, 4, 5, 1, 6],\n",
       "       [9, 8, 2, 9, 8]])"
      ]
     },
     "execution_count": 85,
     "metadata": {},
     "output_type": "execute_result"
    }
   ],
   "source": [
    "a = np.random.randint(1,10,(5,5))\n",
    "print(a.min()) ; print(a.mean()) ## minimum  and mean\n",
    "print(a.max())## Maximum\n",
    "a"
   ]
  },
  {
   "cell_type": "markdown",
   "id": "c6516cdd",
   "metadata": {},
   "source": [
    "## Indexing & Slicing"
   ]
  },
  {
   "cell_type": "code",
   "execution_count": 5,
   "id": "f6e7e1b2",
   "metadata": {},
   "outputs": [
    {
     "data": {
      "text/plain": [
       "array([[ 5,  7, 23, 38, 72],\n",
       "       [67, 58, 87, 73, 75],\n",
       "       [ 7, 21, 50, 45, 89],\n",
       "       [72, 30, 52, 33, 67],\n",
       "       [39, 81, 17, 33, 49]])"
      ]
     },
     "execution_count": 5,
     "metadata": {},
     "output_type": "execute_result"
    }
   ],
   "source": [
    "arr = np.random.randint(4,100,(5,5))\n",
    "arr"
   ]
  },
  {
   "cell_type": "code",
   "execution_count": 6,
   "id": "b81813cd",
   "metadata": {},
   "outputs": [
    {
     "data": {
      "text/plain": [
       "array([[33, 67],\n",
       "       [33, 49]])"
      ]
     },
     "execution_count": 6,
     "metadata": {},
     "output_type": "execute_result"
    }
   ],
   "source": [
    "arr[3:,3:] ## start from 3 row and start from 3rd column"
   ]
  },
  {
   "cell_type": "code",
   "execution_count": 7,
   "id": "b3a92f96",
   "metadata": {},
   "outputs": [
    {
     "data": {
      "text/plain": [
       "array([[ 7, 38],\n",
       "       [58, 73],\n",
       "       [21, 45],\n",
       "       [30, 33],\n",
       "       [81, 33]])"
      ]
     },
     "execution_count": 7,
     "metadata": {},
     "output_type": "execute_result"
    }
   ],
   "source": [
    "arr[:,[1,3]] ## all rows only 1st and 3rd column"
   ]
  },
  {
   "cell_type": "code",
   "execution_count": 8,
   "id": "58afa7a1",
   "metadata": {
    "scrolled": true
   },
   "outputs": [
    {
     "name": "stdout",
     "output_type": "stream",
     "text": [
      "[[False False  True  True  True]\n",
      " [ True  True  True  True  True]\n",
      " [False  True  True  True  True]\n",
      " [ True  True  True  True  True]\n",
      " [ True  True  True  True  True]]\n"
     ]
    },
    {
     "data": {
      "text/plain": [
       "array([23, 38, 72, 67, 58, 87, 73, 75, 21, 50, 45, 89, 72, 30, 52, 33, 67,\n",
       "       39, 81, 17, 33, 49])"
      ]
     },
     "execution_count": 8,
     "metadata": {},
     "output_type": "execute_result"
    }
   ],
   "source": [
    "print(arr >10) ## anything greater than 10 gives True\n",
    "arr[arr>10] ## it gives only filter arrray"
   ]
  },
  {
   "cell_type": "code",
   "execution_count": 9,
   "id": "87df33f6",
   "metadata": {
    "scrolled": true
   },
   "outputs": [
    {
     "name": "stdout",
     "output_type": "stream",
     "text": [
      "[[ 5  7 23 38 72]\n",
      " [67 58 87 73 75]\n",
      " [ 7 21 50 45 89]\n",
      " [72 30 52 33 67]\n",
      " [39 81 17 33 49]]\n"
     ]
    },
    {
     "data": {
      "text/plain": [
       "array([[  25,   49,  529, 1444, 5184],\n",
       "       [4489, 3364, 7569, 5329, 5625],\n",
       "       [  49,  441, 2500, 2025, 7921],\n",
       "       [5184,  900, 2704, 1089, 4489],\n",
       "       [1521, 6561,  289, 1089, 2401]])"
      ]
     },
     "execution_count": 9,
     "metadata": {},
     "output_type": "execute_result"
    }
   ],
   "source": [
    "## Normal Multiplication \n",
    "print(arr)\n",
    "arr*arr ## Multiply by arr*arr ex : 5*5=25 ; 67*67 = 4489"
   ]
  },
  {
   "cell_type": "markdown",
   "id": "842fe65e",
   "metadata": {},
   "source": [
    "## Matrix Multiplication"
   ]
  },
  {
   "cell_type": "code",
   "execution_count": 10,
   "id": "54fafa41",
   "metadata": {},
   "outputs": [
    {
     "name": "stdout",
     "output_type": "stream",
     "text": [
      "[[ 5  7 23 38 72]\n",
      " [67 58 87 73 75]\n",
      " [ 7 21 50 45 89]\n",
      " [72 30 52 33 67]\n",
      " [39 81 17 33 49]]\n"
     ]
    },
    {
     "data": {
      "text/plain": [
       "array([[ 6199,  7896,  5074,  5366,  9006],\n",
       "       [13011, 13925, 16008, 15579, 25483],\n",
       "       [ 8503, 10876,  8341,  8471, 13905],\n",
       "       [ 7723,  9753,  9721, 10566, 17556],\n",
       "       [10028, 10287, 11343, 10866, 15008]])"
      ]
     },
     "execution_count": 10,
     "metadata": {},
     "output_type": "execute_result"
    }
   ],
   "source": [
    " ## if we want Matrix Multiplication  we use @\n",
    "print(arr)\n",
    "arr@arr   ## [5*5 +  7*67 + 23*7 + 38*72 + 72*39] ==> 6199 ; [5*7 + 7*58 + 23*21 +38*30 + 72*81] ==> 7896\n",
    "## Import Rule in Matrix Multiplication is Your 1st Matrix column and 2 nd Matrix row is always same  "
   ]
  },
  {
   "cell_type": "code",
   "execution_count": 15,
   "id": "bef5b0c4",
   "metadata": {},
   "outputs": [
    {
     "name": "stdout",
     "output_type": "stream",
     "text": [
      "6199\n",
      "7896\n"
     ]
    }
   ],
   "source": [
    "print(25+469+161+2736+2808)\n",
    "print(35+406+483+1140+5832)"
   ]
  },
  {
   "cell_type": "code",
   "execution_count": 26,
   "id": "583fa80c",
   "metadata": {},
   "outputs": [
    {
     "name": "stdout",
     "output_type": "stream",
     "text": [
      "[[0.2680563  0.69056088 0.54936369]\n",
      " [0.86088046 0.67233135 0.75129993]]\n",
      "[[0.12552153 0.76717596 0.03704994]\n",
      " [0.52387722 0.72761433 0.88330303]]\n"
     ]
    },
    {
     "ename": "ValueError",
     "evalue": "matmul: Input operand 1 has a mismatch in its core dimension 0, with gufunc signature (n?,k),(k,m?)->(n?,m?) (size 2 is different from 3)",
     "output_type": "error",
     "traceback": [
      "\u001b[1;31m---------------------------------------------------------------------------\u001b[0m",
      "\u001b[1;31mValueError\u001b[0m                                Traceback (most recent call last)",
      "\u001b[1;32m<ipython-input-26-46a61c11418c>\u001b[0m in \u001b[0;36m<module>\u001b[1;34m\u001b[0m\n\u001b[0;32m      2\u001b[0m \u001b[0mmat2\u001b[0m \u001b[1;33m=\u001b[0m \u001b[0mnp\u001b[0m\u001b[1;33m.\u001b[0m\u001b[0mrandom\u001b[0m\u001b[1;33m.\u001b[0m\u001b[0mrand\u001b[0m\u001b[1;33m(\u001b[0m\u001b[1;36m2\u001b[0m\u001b[1;33m,\u001b[0m\u001b[1;36m3\u001b[0m\u001b[1;33m)\u001b[0m\u001b[1;33m\u001b[0m\u001b[1;33m\u001b[0m\u001b[0m\n\u001b[0;32m      3\u001b[0m \u001b[0mprint\u001b[0m\u001b[1;33m(\u001b[0m\u001b[0mmat1\u001b[0m\u001b[1;33m)\u001b[0m\u001b[1;33m;\u001b[0m \u001b[0mprint\u001b[0m\u001b[1;33m(\u001b[0m\u001b[0mmat2\u001b[0m\u001b[1;33m)\u001b[0m\u001b[1;33m\u001b[0m\u001b[1;33m\u001b[0m\u001b[0m\n\u001b[1;32m----> 4\u001b[1;33m \u001b[0mmat1\u001b[0m\u001b[1;33m@\u001b[0m\u001b[0mmat2\u001b[0m\u001b[1;33m\u001b[0m\u001b[1;33m\u001b[0m\u001b[0m\n\u001b[0m",
      "\u001b[1;31mValueError\u001b[0m: matmul: Input operand 1 has a mismatch in its core dimension 0, with gufunc signature (n?,k),(k,m?)->(n?,m?) (size 2 is different from 3)"
     ]
    }
   ],
   "source": [
    "mat1 = np.random.rand(2,3) ## 2 row 3 column \n",
    "mat2 = np.random.rand(2,3)  ## 2 row 3 coumn \n",
    "print(mat1); print(mat2)\n",
    "## criteria not match for  matrix multiplication so it gives error \n",
    "mat1@mat2"
   ]
  },
  {
   "cell_type": "code",
   "execution_count": 30,
   "id": "77f1e014",
   "metadata": {},
   "outputs": [
    {
     "data": {
      "text/plain": [
       "array([[0.03364684, 0.5297817 , 0.02035389],\n",
       "       [0.45099566, 0.48919792, 0.6636255 ]])"
      ]
     },
     "execution_count": 30,
     "metadata": {},
     "output_type": "execute_result"
    }
   ],
   "source": [
    "## But index multiplication is Available \n",
    "mat1 * mat2"
   ]
  },
  {
   "cell_type": "code",
   "execution_count": 31,
   "id": "569dd272",
   "metadata": {},
   "outputs": [
    {
     "name": "stderr",
     "output_type": "stream",
     "text": [
      "C:\\ProgramData\\Anaconda3\\envs\\pandas\\lib\\site-packages\\ipykernel_launcher.py:1: RuntimeWarning: divide by zero encountered in true_divide\n",
      "  \"\"\"Entry point for launching an IPython kernel.\n"
     ]
    },
    {
     "data": {
      "text/plain": [
       "array([[inf, inf, inf],\n",
       "       [inf, inf, inf]])"
      ]
     },
     "execution_count": 31,
     "metadata": {},
     "output_type": "execute_result"
    }
   ],
   "source": [
    "mat1 / 0 ## It always gives infinity"
   ]
  },
  {
   "cell_type": "markdown",
   "id": "0be2acf4",
   "metadata": {},
   "source": [
    "## BroadCasting"
   ]
  },
  {
   "cell_type": "code",
   "execution_count": 41,
   "id": "88ff4078",
   "metadata": {},
   "outputs": [
    {
     "name": "stdout",
     "output_type": "stream",
     "text": [
      "[[0. 0. 0. 0.]\n",
      " [0. 0. 0. 0.]\n",
      " [0. 0. 0. 0.]]\n",
      "\n",
      "[1 2 3 4]\n",
      "\n",
      "[[1. 2. 3. 4.]\n",
      " [1. 2. 3. 4.]\n",
      " [1. 2. 3. 4.]]\n"
     ]
    }
   ],
   "source": [
    "zer = np.zeros((3,4))\n",
    "a = np.array((1,2,3,4))\n",
    "print(zer) ;print(); print(a) ; print()\n",
    "print(zer+a)  ## This is Broadscasting"
   ]
  },
  {
   "cell_type": "code",
   "execution_count": 44,
   "id": "fd4c2921",
   "metadata": {},
   "outputs": [
    {
     "name": "stdout",
     "output_type": "stream",
     "text": [
      "[1 2 3]\n",
      "(3,)\n"
     ]
    },
    {
     "ename": "ValueError",
     "evalue": "operands could not be broadcast together with shapes (3,4) (3,) ",
     "output_type": "error",
     "traceback": [
      "\u001b[1;31m---------------------------------------------------------------------------\u001b[0m",
      "\u001b[1;31mValueError\u001b[0m                                Traceback (most recent call last)",
      "\u001b[1;32m<ipython-input-44-44a822fe1ea1>\u001b[0m in \u001b[0;36m<module>\u001b[1;34m\u001b[0m\n\u001b[0;32m      2\u001b[0m \u001b[0mprint\u001b[0m\u001b[1;33m(\u001b[0m\u001b[0mb\u001b[0m\u001b[1;33m)\u001b[0m\u001b[1;33m\u001b[0m\u001b[1;33m\u001b[0m\u001b[0m\n\u001b[0;32m      3\u001b[0m \u001b[0mprint\u001b[0m\u001b[1;33m(\u001b[0m\u001b[0mb\u001b[0m\u001b[1;33m.\u001b[0m\u001b[0mshape\u001b[0m\u001b[1;33m)\u001b[0m\u001b[1;33m\u001b[0m\u001b[1;33m\u001b[0m\u001b[0m\n\u001b[1;32m----> 4\u001b[1;33m \u001b[0mzer\u001b[0m\u001b[1;33m+\u001b[0m\u001b[0mb\u001b[0m  \u001b[1;31m## Shape is not correct\u001b[0m\u001b[1;33m\u001b[0m\u001b[1;33m\u001b[0m\u001b[0m\n\u001b[0m",
      "\u001b[1;31mValueError\u001b[0m: operands could not be broadcast together with shapes (3,4) (3,) "
     ]
    }
   ],
   "source": [
    "b = np.array((1,2,3)) \n",
    "print(b)\n",
    "print(b.shape)\n",
    "zer+b  ## Shape is not correct"
   ]
  },
  {
   "cell_type": "code",
   "execution_count": 49,
   "id": "001c3f10",
   "metadata": {},
   "outputs": [
    {
     "name": "stdout",
     "output_type": "stream",
     "text": [
      "[[1]\n",
      " [2]\n",
      " [3]]\n",
      "[[0. 0. 0. 0.]\n",
      " [0. 0. 0. 0.]\n",
      " [0. 0. 0. 0.]]\n"
     ]
    },
    {
     "data": {
      "text/plain": [
       "array([[1., 1., 1., 1.],\n",
       "       [2., 2., 2., 2.],\n",
       "       [3., 3., 3., 3.]])"
      ]
     },
     "execution_count": 49,
     "metadata": {},
     "output_type": "execute_result"
    }
   ],
   "source": [
    "## we can reshape \n",
    "c = b.reshape(3,1)\n",
    "print(c)\n",
    "print(zer)\n",
    "c+ zer"
   ]
  },
  {
   "cell_type": "code",
   "execution_count": 55,
   "id": "f284306d",
   "metadata": {},
   "outputs": [
    {
     "name": "stdout",
     "output_type": "stream",
     "text": [
      "[[1 2 3]]\n",
      "\n",
      "[[1]\n",
      " [2]\n",
      " [3]]\n"
     ]
    }
   ],
   "source": [
    "## Transpose the Array \n",
    "t = np.array([[1,2,3]])\n",
    "print(t) ; print()\n",
    "print(t.T) ## Transpose 1 x 3 ==>  3 x 1"
   ]
  },
  {
   "cell_type": "code",
   "execution_count": 63,
   "id": "0562136c",
   "metadata": {},
   "outputs": [
    {
     "name": "stdout",
     "output_type": "stream",
     "text": [
      "[[0.5239932  0.41118463 0.95981036 0.62522064]\n",
      " [0.43480253 0.72051514 0.38141366 0.57043335]\n",
      " [0.49247862 0.71464999 0.01219413 0.49184199]\n",
      " [0.82892943 0.66004264 0.48725363 0.63588971]\n",
      " [0.26115638 0.51519592 0.59475407 0.94966313]]\n",
      "\n",
      "[[0.5239932  0.43480253 0.49247862 0.82892943 0.26115638]\n",
      " [0.41118463 0.72051514 0.71464999 0.66004264 0.51519592]\n",
      " [0.95981036 0.38141366 0.01219413 0.48725363 0.59475407]\n",
      " [0.62522064 0.57043335 0.49184199 0.63588971 0.94966313]]\n",
      "\n",
      "The Orginal Array is\n",
      "[[0.5239932  0.41118463 0.95981036 0.62522064]\n",
      " [0.43480253 0.72051514 0.38141366 0.57043335]\n",
      " [0.49247862 0.71464999 0.01219413 0.49184199]\n",
      " [0.82892943 0.66004264 0.48725363 0.63588971]\n",
      " [0.26115638 0.51519592 0.59475407 0.94966313]]\n"
     ]
    },
    {
     "data": {
      "text/plain": [
       "array([[0.72387374, 0.64123679, 0.97969912, 0.79070894],\n",
       "       [0.65939558, 0.84883163, 0.61758696, 0.75527038],\n",
       "       [0.70176821, 0.84536974, 0.11042702, 0.70131447],\n",
       "       [0.91045562, 0.81243008, 0.69803555, 0.79742693],\n",
       "       [0.51103461, 0.71777149, 0.771203  , 0.97450661]])"
      ]
     },
     "execution_count": 63,
     "metadata": {},
     "output_type": "execute_result"
    }
   ],
   "source": [
    "## find the sqrt \n",
    "sq = np.random.rand(5,4)\n",
    "print(sq) ; print()\n",
    "print(sq.T) ; print()\n",
    "print(\"The Orginal Array is\")\n",
    "print(sq)\n",
    "sqrt = np.sqrt(sq)\n",
    "sqrt"
   ]
  },
  {
   "cell_type": "code",
   "execution_count": 72,
   "id": "b6b7651b",
   "metadata": {},
   "outputs": [
    {
     "data": {
      "text/plain": [
       "0.7238737458977221"
      ]
     },
     "execution_count": 72,
     "metadata": {},
     "output_type": "execute_result"
    }
   ],
   "source": [
    "0.5239932** 0.5"
   ]
  },
  {
   "cell_type": "code",
   "execution_count": 73,
   "id": "51bfb965",
   "metadata": {},
   "outputs": [
    {
     "data": {
      "text/plain": [
       "array([[1.68875775, 1.50860386, 2.61120124, 1.8686582 ],\n",
       "       [1.544658  , 2.0554918 , 1.46435322, 1.7690335 ],\n",
       "       [1.63636713, 2.04347133, 1.01226878, 1.63532569],\n",
       "       [2.29086489, 1.93487483, 1.62783943, 1.88870179],\n",
       "       [1.29843069, 1.67396643, 1.81258511, 2.58483877]])"
      ]
     },
     "execution_count": 73,
     "metadata": {},
     "output_type": "execute_result"
    }
   ],
   "source": [
    "## Exponential \n",
    "np.exp(sq)"
   ]
  },
  {
   "cell_type": "code",
   "execution_count": 76,
   "id": "8b9bdd1d",
   "metadata": {},
   "outputs": [
    {
     "data": {
      "text/plain": [
       "array([[-0.28067435, -0.38596313, -0.01781457, -0.2039667 ],\n",
       "       [-0.36170794, -0.14235689, -0.41860376, -0.24379509],\n",
       "       [-0.30761262, -0.14590661, -1.91384927, -0.3081744 ],\n",
       "       [-0.08148244, -0.18042801, -0.31224491, -0.1966182 ],\n",
       "       [-0.58309936, -0.28802759, -0.22566258, -0.02243042]])"
      ]
     },
     "execution_count": 76,
     "metadata": {},
     "output_type": "execute_result"
    }
   ],
   "source": [
    "## log base10\n",
    "np.log10(sq)"
   ]
  },
  {
   "cell_type": "markdown",
   "id": "c5367666",
   "metadata": {},
   "source": [
    "## ranom seed\n",
    "- It helps to not change the random value"
   ]
  },
  {
   "cell_type": "code",
   "execution_count": 81,
   "id": "42df6900",
   "metadata": {},
   "outputs": [
    {
     "name": "stdout",
     "output_type": "stream",
     "text": [
      "[[0.46215307 0.8356833  0.43378372 0.82626956]\n",
      " [0.61819191 0.44545826 0.71123213 0.26270917]]\n",
      "\n",
      "[[0.30821113 0.56522702 0.82622056 0.66455673]\n",
      " [0.41046834 0.60115692 0.58694049 0.97261458]]\n",
      "\n",
      "[[0.16806063 0.23388022 0.44624837 0.31691301]\n",
      " [0.85157663 0.64064027 0.87752236 0.02539357]]\n",
      "\n",
      "[[0.17536579 0.62062281 0.55458086 0.46641094]\n",
      " [0.37067522 0.87389359 0.91844928 0.17996195]]\n",
      "\n",
      "[[0.9408076  0.38405494 0.48817018 0.37828906]\n",
      " [0.95290355 0.68736899 0.57617692 0.63558919]]\n",
      "\n"
     ]
    }
   ],
   "source": [
    "for i in range(5):\n",
    "    print(np.random.rand(2,4))\n",
    "    print() \n",
    "## Now we see values are changing "
   ]
  },
  {
   "cell_type": "code",
   "execution_count": 89,
   "id": "b079a2bd",
   "metadata": {},
   "outputs": [
    {
     "name": "stdout",
     "output_type": "stream",
     "text": [
      "[[0.22199317 0.87073231 0.20671916 0.91861091]\n",
      " [0.48841119 0.61174386 0.76590786 0.51841799]]\n",
      "\n",
      "[[0.22199317 0.87073231 0.20671916 0.91861091]\n",
      " [0.48841119 0.61174386 0.76590786 0.51841799]]\n",
      "\n",
      "[[0.22199317 0.87073231 0.20671916 0.91861091]\n",
      " [0.48841119 0.61174386 0.76590786 0.51841799]]\n",
      "\n",
      "[[0.22199317 0.87073231 0.20671916 0.91861091]\n",
      " [0.48841119 0.61174386 0.76590786 0.51841799]]\n",
      "\n",
      "[[0.22199317 0.87073231 0.20671916 0.91861091]\n",
      " [0.48841119 0.61174386 0.76590786 0.51841799]]\n",
      "\n"
     ]
    }
   ],
   "source": [
    "for i in range(5):\n",
    "    np.random.seed(5) ## we can give any number we want, if we give 5 anytime we get same value \n",
    "    print(np.random.rand(2,4))\n",
    "    print()\n",
    "## Now we see values not are changing "
   ]
  },
  {
   "cell_type": "code",
   "execution_count": 90,
   "id": "0f682bee",
   "metadata": {},
   "outputs": [
    {
     "name": "stdout",
     "output_type": "stream",
     "text": [
      "[[0.22199317 0.87073231 0.20671916 0.91861091]\n",
      " [0.48841119 0.61174386 0.76590786 0.51841799]]\n",
      "\n",
      "[[0.22199317 0.87073231 0.20671916 0.91861091]\n",
      " [0.48841119 0.61174386 0.76590786 0.51841799]]\n",
      "\n",
      "[[0.22199317 0.87073231 0.20671916 0.91861091]\n",
      " [0.48841119 0.61174386 0.76590786 0.51841799]]\n",
      "\n",
      "[[0.22199317 0.87073231 0.20671916 0.91861091]\n",
      " [0.48841119 0.61174386 0.76590786 0.51841799]]\n",
      "\n",
      "[[0.22199317 0.87073231 0.20671916 0.91861091]\n",
      " [0.48841119 0.61174386 0.76590786 0.51841799]]\n",
      "\n"
     ]
    }
   ],
   "source": [
    "for i in range(5):\n",
    "    np.random.seed(5) ## we can give any number we want, if we give 50 anytime we get same value \n",
    "    print(np.random.rand(2,4))\n",
    "    print()\n",
    "## Now we see values not are changing "
   ]
  },
  {
   "cell_type": "code",
   "execution_count": 93,
   "id": "5d26c785",
   "metadata": {
    "scrolled": true
   },
   "outputs": [
    {
     "name": "stdout",
     "output_type": "stream",
     "text": [
      "[[0.22199317 0.87073231 0.20671916 0.91861091]\n",
      " [0.48841119 0.61174386 0.76590786 0.51841799]]\n",
      "\n",
      "[[0.22199317 0.87073231 0.20671916 0.91861091]\n",
      " [0.48841119 0.61174386 0.76590786 0.51841799]]\n",
      "\n",
      "[[0.22199317 0.87073231 0.20671916 0.91861091]\n",
      " [0.48841119 0.61174386 0.76590786 0.51841799]]\n",
      "\n",
      "[[0.22199317 0.87073231 0.20671916 0.91861091]\n",
      " [0.48841119 0.61174386 0.76590786 0.51841799]]\n",
      "\n",
      "[[0.22199317 0.87073231 0.20671916 0.91861091]\n",
      " [0.48841119 0.61174386 0.76590786 0.51841799]]\n",
      "\n"
     ]
    }
   ],
   "source": [
    "for i in range(5):\n",
    "    np.random.seed(5) ## we can give any number we want, if we give 5 anytime we get same value \n",
    "    print(np.random.rand(2,4))\n",
    "    print()\n",
    "## Now we see values not are changing "
   ]
  },
  {
   "cell_type": "markdown",
   "id": "48e51fb0",
   "metadata": {},
   "source": [
    "## change the Dimension of the Array"
   ]
  },
  {
   "cell_type": "code",
   "execution_count": 3,
   "id": "b904fdc9",
   "metadata": {},
   "outputs": [
    {
     "data": {
      "text/plain": [
       "array([[[100,  60],\n",
       "        [200,  70]]])"
      ]
     },
     "execution_count": 3,
     "metadata": {},
     "output_type": "execute_result"
    }
   ],
   "source": [
    "s = np.array([[\n",
    "    [100,60],\n",
    "    [200,70]\n",
    "]])\n",
    "s"
   ]
  },
  {
   "cell_type": "code",
   "execution_count": 4,
   "id": "9c563d77",
   "metadata": {},
   "outputs": [
    {
     "data": {
      "text/plain": [
       "(1, 2, 2)"
      ]
     },
     "execution_count": 4,
     "metadata": {},
     "output_type": "execute_result"
    }
   ],
   "source": [
    "s.shape ## 1 dimension array"
   ]
  },
  {
   "cell_type": "code",
   "execution_count": 5,
   "id": "03fd37db",
   "metadata": {},
   "outputs": [
    {
     "data": {
      "text/plain": [
       "3"
      ]
     },
     "execution_count": 5,
     "metadata": {},
     "output_type": "execute_result"
    }
   ],
   "source": [
    "s.ndim"
   ]
  },
  {
   "cell_type": "code",
   "execution_count": 6,
   "id": "07fb8ab4",
   "metadata": {},
   "outputs": [],
   "source": [
    "## 2 dimension array\n",
    "s.shape = (2,2,1)"
   ]
  },
  {
   "cell_type": "code",
   "execution_count": 7,
   "id": "b3c731de",
   "metadata": {},
   "outputs": [
    {
     "data": {
      "text/plain": [
       "array([[[100],\n",
       "        [ 60]],\n",
       "\n",
       "       [[200],\n",
       "        [ 70]]])"
      ]
     },
     "execution_count": 7,
     "metadata": {},
     "output_type": "execute_result"
    }
   ],
   "source": [
    "s"
   ]
  },
  {
   "cell_type": "code",
   "execution_count": 8,
   "id": "88ecc8fe",
   "metadata": {},
   "outputs": [
    {
     "data": {
      "text/plain": [
       "(2, 2, 1)"
      ]
     },
     "execution_count": 8,
     "metadata": {},
     "output_type": "execute_result"
    }
   ],
   "source": [
    "s.shape"
   ]
  },
  {
   "cell_type": "code",
   "execution_count": 11,
   "id": "b59fcb13",
   "metadata": {},
   "outputs": [
    {
     "data": {
      "text/plain": [
       "3"
      ]
     },
     "execution_count": 11,
     "metadata": {},
     "output_type": "execute_result"
    }
   ],
   "source": [
    "s.ndim "
   ]
  },
  {
   "cell_type": "code",
   "execution_count": null,
   "id": "d6ae35c8",
   "metadata": {},
   "outputs": [],
   "source": []
  }
 ],
 "metadata": {
  "kernelspec": {
   "display_name": "Python 3 (ipykernel)",
   "language": "python",
   "name": "python3"
  },
  "language_info": {
   "codemirror_mode": {
    "name": "ipython",
    "version": 3
   },
   "file_extension": ".py",
   "mimetype": "text/x-python",
   "name": "python",
   "nbconvert_exporter": "python",
   "pygments_lexer": "ipython3",
   "version": "3.9.6"
  }
 },
 "nbformat": 4,
 "nbformat_minor": 5
}
