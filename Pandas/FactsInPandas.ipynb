{
 "cells": [
  {
   "cell_type": "markdown",
   "id": "b075e3e4",
   "metadata": {},
   "source": [
    "# Doubts in Pandas "
   ]
  },
  {
   "cell_type": "markdown",
   "id": "771b9118",
   "metadata": {},
   "source": [
    "## Save different DataFrame in single excel file with different sheetname"
   ]
  },
  {
   "cell_type": "code",
   "execution_count": 14,
   "id": "a457b878",
   "metadata": {},
   "outputs": [],
   "source": [
    "import pandas"
   ]
  },
  {
   "cell_type": "code",
   "execution_count": 5,
   "id": "a5f304ed",
   "metadata": {},
   "outputs": [
    {
     "name": "stderr",
     "output_type": "stream",
     "text": [
      "WARNING: Ignoring invalid distribution -arso (c:\\programdata\\anaconda3\\envs\\pandas\\lib\\site-packages)\n",
      "WARNING: Ignoring invalid distribution -arso (c:\\programdata\\anaconda3\\envs\\pandas\\lib\\site-packages)\n",
      "WARNING: Ignoring invalid distribution -arso (c:\\programdata\\anaconda3\\envs\\pandas\\lib\\site-packages)\n",
      "WARNING: Ignoring invalid distribution -arso (c:\\programdata\\anaconda3\\envs\\pandas\\lib\\site-packages)\n",
      "WARNING: Ignoring invalid distribution -arso (c:\\programdata\\anaconda3\\envs\\pandas\\lib\\site-packages)\n",
      "WARNING: Ignoring invalid distribution -arso (c:\\programdata\\anaconda3\\envs\\pandas\\lib\\site-packages)\n",
      "WARNING: Ignoring invalid distribution -arso (c:\\programdata\\anaconda3\\envs\\pandas\\lib\\site-packages)\n"
     ]
    },
    {
     "name": "stdout",
     "output_type": "stream",
     "text": [
      "Collecting xlsxwriter\n",
      "  Downloading XlsxWriter-1.4.3-py2.py3-none-any.whl (149 kB)\n",
      "Installing collected packages: xlsxwriter\n",
      "Successfully installed xlsxwriter-1.4.3\n"
     ]
    }
   ],
   "source": [
    "!pip install xlsxwriter\n",
    "import xlsxwriter"
   ]
  },
  {
   "cell_type": "code",
   "execution_count": 7,
   "id": "5c815be1",
   "metadata": {},
   "outputs": [],
   "source": [
    "import pandas as pd"
   ]
  },
  {
   "cell_type": "code",
   "execution_count": 8,
   "id": "6da1ee09",
   "metadata": {},
   "outputs": [],
   "source": [
    "df = pd.read_csv('html_data0.csv')\n",
    "df1 = pd.read_csv('html_data1.csv')\n",
    "df2 = pd.read_csv('html_data2.csv')"
   ]
  },
  {
   "cell_type": "code",
   "execution_count": 10,
   "id": "7accee5e",
   "metadata": {},
   "outputs": [],
   "source": [
    "dfs = {'result1':df , 'result2':df1 , 'result3' :df2}"
   ]
  },
  {
   "cell_type": "code",
   "execution_count": 13,
   "id": "f2d36b0e",
   "metadata": {},
   "outputs": [],
   "source": [
    "writer = pd.ExcelWriter('practicse.xlsx',engine='xlsxwriter')\n",
    "for sheet in dfs.keys():\n",
    "    dfs[sheet].to_excel(writer,sheet_name=sheet,index=False)\n",
    "writer.save()"
   ]
  },
  {
   "cell_type": "code",
   "execution_count": 12,
   "id": "4803e4ad",
   "metadata": {},
   "outputs": [
    {
     "name": "stdout",
     "output_type": "stream",
     "text": [
      "   No.                        Teams  Played  Won  Lost  N/R  Points    NRR\n",
      "0    1               Delhi Capitals       8    6     2    0      12  0.547\n",
      "1    2               Delhi Capitals       7    5     2    0      10  1.263\n",
      "2    3  Royal Challengers Bangalore       7    5     2    0      10 -0.171\n",
      "3    4               Mumbai Indians       7    4     3    0       8  0.062\n",
      "4    5             Rajasthan Royals       7    3     4    0       6 -0.190\n",
      "5    6                 Punjab Kings       8    3     5    0       6 -0.368\n",
      "6    7        Kolkata Knight Riders       7    2     5    0       4 -0.494\n",
      "7    8          Sunrisers Hyderabad       7    1     6    0       2 -0.623\n",
      "     0               1  2    3   4     5    6      7    8       9      10  \\\n",
      "0  No.          Player  M  Ins  NO  Runs   HS    Avg   BF      SR  100/50   \n",
      "1    1  Shikhar Dhawan  8    8   1   380   92  54.28  283  134.27     0/3   \n",
      "2    2        KL Rahul  7    7   2   331  91*  66.20  243  136.21     0/4   \n",
      "3    3  Faf du Plessis  7    7   2   320  95*  64.00  220  145.45     0/4   \n",
      "4    4    Prithvi Shaw  8    8   0   308   82  38.50  185  166.48     0/3   \n",
      "5    5    Sanju Samson  7    7   1   277  119  46.16  190  145.78     1/0   \n",
      "\n",
      "      11  \n",
      "0  4s/6s  \n",
      "1   43/8  \n",
      "2  27/16  \n",
      "3  29/13  \n",
      "4  37/12  \n",
      "5  26/11  \n",
      "     0              1  2    3    4     5     6     7      8     9     10  \\\n",
      "0  No.         Player  M  Ins  Ovs  Runs  Wkts   BBI    Avg  Econ     SR   \n",
      "1    1  Harshal Patel  7    7   28   257    17  5/27  15.11  9.17   9.88   \n",
      "2    2     Avesh Khan  8    8   30   231    14  3/32  16.50  7.70  12.85   \n",
      "3    3   Chris Morris  7    7   26   224    14  4/23  16.00  8.61  11.14   \n",
      "4    4   Rahul Chahar  7    7   28   202    11  4/27  18.36  7.21  15.27   \n",
      "5    5    Rashid Khan  7    7   28   172    10  3/36  17.20  6.14  16.80   \n",
      "\n",
      "      11  \n",
      "0  4w/5w  \n",
      "1    0/1  \n",
      "2    1/0  \n",
      "3    1/0  \n",
      "4    1/0  \n",
      "5    0/0  \n"
     ]
    }
   ],
   "source": [
    "for i in dfs.keys():\n",
    "    print(dfs[i])"
   ]
  },
  {
   "cell_type": "code",
   "execution_count": null,
   "id": "b9c6a4bf",
   "metadata": {},
   "outputs": [],
   "source": []
  }
 ],
 "metadata": {
  "kernelspec": {
   "display_name": "Python 3",
   "language": "python",
   "name": "python3"
  },
  "language_info": {
   "codemirror_mode": {
    "name": "ipython",
    "version": 3
   },
   "file_extension": ".py",
   "mimetype": "text/x-python",
   "name": "python",
   "nbconvert_exporter": "python",
   "pygments_lexer": "ipython3",
   "version": "3.7.10"
  }
 },
 "nbformat": 4,
 "nbformat_minor": 5
}
